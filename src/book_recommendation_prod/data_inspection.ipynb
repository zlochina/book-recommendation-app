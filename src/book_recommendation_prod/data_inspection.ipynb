{
 "cells": [
  {
   "cell_type": "code",
   "id": "initial_id",
   "metadata": {
    "collapsed": true,
    "ExecuteTime": {
     "end_time": "2025-08-14T12:12:44.309508Z",
     "start_time": "2025-08-14T12:12:44.301144Z"
    }
   },
   "source": [
    "import pandas as pd\n",
    "import numpy as np"
   ],
   "outputs": [],
   "execution_count": 21
  },
  {
   "metadata": {
    "ExecuteTime": {
     "end_time": "2025-08-09T13:48:29.423656Z",
     "start_time": "2025-08-09T13:48:28.814007Z"
    }
   },
   "cell_type": "code",
   "source": "ratings = pd.read_csv(\"csv_data/BX-Book-Ratings.csv\", encoding='cp1251', sep=';')",
   "id": "8174ccd70c62cc80",
   "outputs": [],
   "execution_count": 5
  },
  {
   "metadata": {
    "ExecuteTime": {
     "end_time": "2025-08-11T15:30:53.731191Z",
     "start_time": "2025-08-11T15:30:52.040906Z"
    }
   },
   "cell_type": "code",
   "source": [
    "# # Storage for bad lines\n",
    "# bad_lines = []\n",
    "# \n",
    "# # Define a handler for bad lines\n",
    "# def bad_line_handler(line):\n",
    "#     bad_lines.append(line)\n",
    "#     return None  # skip the bad line in the main DataFrame\n",
    "\n",
    "# TODO: first bad thing is non-handling bad lines\n",
    "books = pd.read_csv(\"csv_data/BX-Books.csv\", encoding='cp1251', sep=';', on_bad_lines=\"warn\") \n"
   ],
   "id": "1736bbf717f000f5",
   "outputs": [
    {
     "name": "stderr",
     "output_type": "stream",
     "text": [
      "/var/folders/9b/rkxr4tx941l76qtgtn679kth0000gn/T/ipykernel_61199/1874702.py:9: ParserWarning: Skipping line 6452: expected 8 fields, saw 9\n",
      "Skipping line 43667: expected 8 fields, saw 10\n",
      "Skipping line 51751: expected 8 fields, saw 9\n",
      "\n",
      "  books = pd.read_csv(\"csv_data/BX-Books.csv\", encoding='cp1251', sep=';', on_bad_lines=\"warn\")\n",
      "/var/folders/9b/rkxr4tx941l76qtgtn679kth0000gn/T/ipykernel_61199/1874702.py:9: ParserWarning: Skipping line 92038: expected 8 fields, saw 9\n",
      "Skipping line 104319: expected 8 fields, saw 9\n",
      "Skipping line 121768: expected 8 fields, saw 9\n",
      "\n",
      "  books = pd.read_csv(\"csv_data/BX-Books.csv\", encoding='cp1251', sep=';', on_bad_lines=\"warn\")\n",
      "/var/folders/9b/rkxr4tx941l76qtgtn679kth0000gn/T/ipykernel_61199/1874702.py:9: ParserWarning: Skipping line 144058: expected 8 fields, saw 9\n",
      "Skipping line 150789: expected 8 fields, saw 9\n",
      "Skipping line 157128: expected 8 fields, saw 9\n",
      "Skipping line 180189: expected 8 fields, saw 9\n",
      "Skipping line 185738: expected 8 fields, saw 9\n",
      "\n",
      "  books = pd.read_csv(\"csv_data/BX-Books.csv\", encoding='cp1251', sep=';', on_bad_lines=\"warn\")\n",
      "/var/folders/9b/rkxr4tx941l76qtgtn679kth0000gn/T/ipykernel_61199/1874702.py:9: ParserWarning: Skipping line 209388: expected 8 fields, saw 9\n",
      "Skipping line 220626: expected 8 fields, saw 9\n",
      "Skipping line 227933: expected 8 fields, saw 11\n",
      "Skipping line 228957: expected 8 fields, saw 10\n",
      "Skipping line 245933: expected 8 fields, saw 9\n",
      "Skipping line 251296: expected 8 fields, saw 9\n",
      "Skipping line 259941: expected 8 fields, saw 9\n",
      "Skipping line 261529: expected 8 fields, saw 9\n",
      "\n",
      "  books = pd.read_csv(\"csv_data/BX-Books.csv\", encoding='cp1251', sep=';', on_bad_lines=\"warn\")\n",
      "/var/folders/9b/rkxr4tx941l76qtgtn679kth0000gn/T/ipykernel_61199/1874702.py:9: DtypeWarning: Columns (3) have mixed types. Specify dtype option on import or set low_memory=False.\n",
      "  books = pd.read_csv(\"csv_data/BX-Books.csv\", encoding='cp1251', sep=';', on_bad_lines=\"warn\")\n"
     ]
    }
   ],
   "execution_count": 16
  },
  {
   "metadata": {
    "ExecuteTime": {
     "end_time": "2025-08-11T15:34:29.297020Z",
     "start_time": "2025-08-11T15:34:29.279428Z"
    }
   },
   "cell_type": "code",
   "source": [
    "# print(f\"Full count of bad lines is: {len(bad_lines)}\")\n",
    "books.head()"
   ],
   "id": "5adf88ff768a0c97",
   "outputs": [
    {
     "data": {
      "text/plain": [
       "         ISBN                                         Book-Title  \\\n",
       "0  0195153448                                Classical Mythology   \n",
       "1  0002005018                                       Clara Callan   \n",
       "2  0060973129                               Decision in Normandy   \n",
       "3  0374157065  Flu: The Story of the Great Influenza Pandemic...   \n",
       "4  0393045218                             The Mummies of Urumchi   \n",
       "\n",
       "            Book-Author Year-Of-Publication                   Publisher  \\\n",
       "0    Mark P. O. Morford                2002     Oxford University Press   \n",
       "1  Richard Bruce Wright                2001       HarperFlamingo Canada   \n",
       "2          Carlo D'Este                1991             HarperPerennial   \n",
       "3      Gina Bari Kolata                1999        Farrar Straus Giroux   \n",
       "4       E. J. W. Barber                1999  W. W. Norton &amp; Company   \n",
       "\n",
       "                                         Image-URL-S  \\\n",
       "0  http://images.amazon.com/images/P/0195153448.0...   \n",
       "1  http://images.amazon.com/images/P/0002005018.0...   \n",
       "2  http://images.amazon.com/images/P/0060973129.0...   \n",
       "3  http://images.amazon.com/images/P/0374157065.0...   \n",
       "4  http://images.amazon.com/images/P/0393045218.0...   \n",
       "\n",
       "                                         Image-URL-M  \\\n",
       "0  http://images.amazon.com/images/P/0195153448.0...   \n",
       "1  http://images.amazon.com/images/P/0002005018.0...   \n",
       "2  http://images.amazon.com/images/P/0060973129.0...   \n",
       "3  http://images.amazon.com/images/P/0374157065.0...   \n",
       "4  http://images.amazon.com/images/P/0393045218.0...   \n",
       "\n",
       "                                         Image-URL-L  \n",
       "0  http://images.amazon.com/images/P/0195153448.0...  \n",
       "1  http://images.amazon.com/images/P/0002005018.0...  \n",
       "2  http://images.amazon.com/images/P/0060973129.0...  \n",
       "3  http://images.amazon.com/images/P/0374157065.0...  \n",
       "4  http://images.amazon.com/images/P/0393045218.0...  "
      ],
      "text/html": [
       "<div>\n",
       "<style scoped>\n",
       "    .dataframe tbody tr th:only-of-type {\n",
       "        vertical-align: middle;\n",
       "    }\n",
       "\n",
       "    .dataframe tbody tr th {\n",
       "        vertical-align: top;\n",
       "    }\n",
       "\n",
       "    .dataframe thead th {\n",
       "        text-align: right;\n",
       "    }\n",
       "</style>\n",
       "<table border=\"1\" class=\"dataframe\">\n",
       "  <thead>\n",
       "    <tr style=\"text-align: right;\">\n",
       "      <th></th>\n",
       "      <th>ISBN</th>\n",
       "      <th>Book-Title</th>\n",
       "      <th>Book-Author</th>\n",
       "      <th>Year-Of-Publication</th>\n",
       "      <th>Publisher</th>\n",
       "      <th>Image-URL-S</th>\n",
       "      <th>Image-URL-M</th>\n",
       "      <th>Image-URL-L</th>\n",
       "    </tr>\n",
       "  </thead>\n",
       "  <tbody>\n",
       "    <tr>\n",
       "      <th>0</th>\n",
       "      <td>0195153448</td>\n",
       "      <td>Classical Mythology</td>\n",
       "      <td>Mark P. O. Morford</td>\n",
       "      <td>2002</td>\n",
       "      <td>Oxford University Press</td>\n",
       "      <td>http://images.amazon.com/images/P/0195153448.0...</td>\n",
       "      <td>http://images.amazon.com/images/P/0195153448.0...</td>\n",
       "      <td>http://images.amazon.com/images/P/0195153448.0...</td>\n",
       "    </tr>\n",
       "    <tr>\n",
       "      <th>1</th>\n",
       "      <td>0002005018</td>\n",
       "      <td>Clara Callan</td>\n",
       "      <td>Richard Bruce Wright</td>\n",
       "      <td>2001</td>\n",
       "      <td>HarperFlamingo Canada</td>\n",
       "      <td>http://images.amazon.com/images/P/0002005018.0...</td>\n",
       "      <td>http://images.amazon.com/images/P/0002005018.0...</td>\n",
       "      <td>http://images.amazon.com/images/P/0002005018.0...</td>\n",
       "    </tr>\n",
       "    <tr>\n",
       "      <th>2</th>\n",
       "      <td>0060973129</td>\n",
       "      <td>Decision in Normandy</td>\n",
       "      <td>Carlo D'Este</td>\n",
       "      <td>1991</td>\n",
       "      <td>HarperPerennial</td>\n",
       "      <td>http://images.amazon.com/images/P/0060973129.0...</td>\n",
       "      <td>http://images.amazon.com/images/P/0060973129.0...</td>\n",
       "      <td>http://images.amazon.com/images/P/0060973129.0...</td>\n",
       "    </tr>\n",
       "    <tr>\n",
       "      <th>3</th>\n",
       "      <td>0374157065</td>\n",
       "      <td>Flu: The Story of the Great Influenza Pandemic...</td>\n",
       "      <td>Gina Bari Kolata</td>\n",
       "      <td>1999</td>\n",
       "      <td>Farrar Straus Giroux</td>\n",
       "      <td>http://images.amazon.com/images/P/0374157065.0...</td>\n",
       "      <td>http://images.amazon.com/images/P/0374157065.0...</td>\n",
       "      <td>http://images.amazon.com/images/P/0374157065.0...</td>\n",
       "    </tr>\n",
       "    <tr>\n",
       "      <th>4</th>\n",
       "      <td>0393045218</td>\n",
       "      <td>The Mummies of Urumchi</td>\n",
       "      <td>E. J. W. Barber</td>\n",
       "      <td>1999</td>\n",
       "      <td>W. W. Norton &amp;amp; Company</td>\n",
       "      <td>http://images.amazon.com/images/P/0393045218.0...</td>\n",
       "      <td>http://images.amazon.com/images/P/0393045218.0...</td>\n",
       "      <td>http://images.amazon.com/images/P/0393045218.0...</td>\n",
       "    </tr>\n",
       "  </tbody>\n",
       "</table>\n",
       "</div>"
      ]
     },
     "execution_count": 17,
     "metadata": {},
     "output_type": "execute_result"
    }
   ],
   "execution_count": 17
  },
  {
   "metadata": {
    "ExecuteTime": {
     "end_time": "2025-08-14T14:21:44.521377Z",
     "start_time": "2025-08-14T14:21:43.968375Z"
    }
   },
   "cell_type": "code",
   "source": [
    "books.info()\n",
    "ratings.info()"
   ],
   "id": "b5e21c178eb19030",
   "outputs": [
    {
     "name": "stdout",
     "output_type": "stream",
     "text": [
      "<class 'pandas.core.frame.DataFrame'>\n",
      "RangeIndex: 271360 entries, 0 to 271359\n",
      "Data columns (total 8 columns):\n",
      " #   Column               Non-Null Count   Dtype \n",
      "---  ------               --------------   ----- \n",
      " 0   ISBN                 271360 non-null  object\n",
      " 1   Book-Title           271360 non-null  object\n",
      " 2   Book-Author          271358 non-null  object\n",
      " 3   Year-Of-Publication  271360 non-null  object\n",
      " 4   Publisher            271358 non-null  object\n",
      " 5   Image-URL-S          271360 non-null  object\n",
      " 6   Image-URL-M          271360 non-null  object\n",
      " 7   Image-URL-L          271357 non-null  object\n",
      "dtypes: object(8)\n",
      "memory usage: 16.6+ MB\n",
      "<class 'pandas.core.frame.DataFrame'>\n",
      "RangeIndex: 1149780 entries, 0 to 1149779\n",
      "Data columns (total 3 columns):\n",
      " #   Column       Non-Null Count    Dtype \n",
      "---  ------       --------------    ----- \n",
      " 0   User-ID      1149780 non-null  int64 \n",
      " 1   ISBN         1149780 non-null  object\n",
      " 2   Book-Rating  1149780 non-null  int64 \n",
      "dtypes: int64(2), object(1)\n",
      "memory usage: 26.3+ MB\n"
     ]
    }
   ],
   "execution_count": 31
  },
  {
   "metadata": {
    "ExecuteTime": {
     "end_time": "2025-08-14T12:12:27.938560Z",
     "start_time": "2025-08-14T12:12:23.941009Z"
    }
   },
   "cell_type": "code",
   "source": [
    "### PREPROCESSING DATA\n",
    "#users_ratigs = pd.merge(ratings, users, on=['User-ID'])\n",
    "dataset = pd.merge(ratings, books, on=['ISBN']) ### INNER JOIN of 2 tables\n",
    "dataset_lowercase=dataset.apply(lambda x: x.str.lower() if(x.dtype == 'object') else x)\n",
    "###\n"
   ],
   "id": "8a8a0126da101124",
   "outputs": [],
   "execution_count": 19
  },
  {
   "metadata": {
    "ExecuteTime": {
     "end_time": "2025-08-14T14:20:51.320937Z",
     "start_time": "2025-08-14T14:20:49.544225Z"
    }
   },
   "cell_type": "code",
   "source": "dataset.info()",
   "id": "e29c89630be3ccba",
   "outputs": [
    {
     "name": "stdout",
     "output_type": "stream",
     "text": [
      "<class 'pandas.core.frame.DataFrame'>\n",
      "RangeIndex: 1031136 entries, 0 to 1031135\n",
      "Data columns (total 10 columns):\n",
      " #   Column               Non-Null Count    Dtype \n",
      "---  ------               --------------    ----- \n",
      " 0   User-ID              1031136 non-null  int64 \n",
      " 1   ISBN                 1031136 non-null  object\n",
      " 2   Book-Rating          1031136 non-null  int64 \n",
      " 3   Book-Title           1031136 non-null  object\n",
      " 4   Book-Author          1031134 non-null  object\n",
      " 5   Year-Of-Publication  1031136 non-null  object\n",
      " 6   Publisher            1031134 non-null  object\n",
      " 7   Image-URL-S          1031136 non-null  object\n",
      " 8   Image-URL-M          1031136 non-null  object\n",
      " 9   Image-URL-L          1031132 non-null  object\n",
      "dtypes: int64(2), object(8)\n",
      "memory usage: 78.7+ MB\n"
     ]
    }
   ],
   "execution_count": 30
  },
  {
   "metadata": {
    "ExecuteTime": {
     "end_time": "2025-08-14T12:12:46.856524Z",
     "start_time": "2025-08-14T12:12:46.296173Z"
    }
   },
   "cell_type": "code",
   "source": [
    "### EXTRACT USER IDS WHO RATED ANY BOOK OF THE AUTHOR OF THE INPUT BOOK\n",
    "# TODO: make book name dynamic input\n",
    "# TODO: do search by regex or other simillar technology\n",
    "tolkien_readers = dataset_lowercase['User-ID'][\n",
    "    (dataset_lowercase['Book-Title']=='the fellowship of the ring (the lord of the rings, part 1)') &\n",
    "    (dataset_lowercase['Book-Author'].str.contains(\"tolkien\"))\n",
    "    ]\n",
    "tolkien_readers = tolkien_readers.tolist()\n",
    "tolkien_readers = np.unique(tolkien_readers)\n",
    "###\n"
   ],
   "id": "d48d912ddefbaa69",
   "outputs": [],
   "execution_count": 22
  },
  {
   "metadata": {
    "ExecuteTime": {
     "end_time": "2025-08-14T14:23:12.866613Z",
     "start_time": "2025-08-14T14:23:12.858293Z"
    }
   },
   "cell_type": "code",
   "source": [
    "print(f\"{len(tolkien_readers)=}\")\n",
    "print(f\"{tolkien_readers[:10]=}\")"
   ],
   "id": "357173e03372a2d1",
   "outputs": [
    {
     "name": "stdout",
     "output_type": "stream",
     "text": [
      "len(tolkien_readers)=356\n",
      "tolkien_readers[:10]=array([  254,  1167,  1674,  1903,  3556,  6102,  8759, 10354, 11676,\n",
      "       11944])\n"
     ]
    }
   ],
   "execution_count": 33
  },
  {
   "metadata": {
    "ExecuteTime": {
     "end_time": "2025-08-14T12:12:55.837953Z",
     "start_time": "2025-08-14T12:12:55.687640Z"
    }
   },
   "cell_type": "code",
   "source": [
    "### EXTRACT DATAROWS WHICH CONTAIN USER ID OF ANY PREVIOUSLY EXTRACTED USER IDS\n",
    "# final dataset\n",
    "books_of_tolkien_readers = dataset_lowercase[(dataset_lowercase['User-ID'].isin(tolkien_readers))]\n",
    "###\n"
   ],
   "id": "6635531d9653c865",
   "outputs": [],
   "execution_count": 23
  },
  {
   "metadata": {
    "ExecuteTime": {
     "end_time": "2025-08-14T14:23:27.810557Z",
     "start_time": "2025-08-14T14:23:27.323589Z"
    }
   },
   "cell_type": "code",
   "source": "books_of_tolkien_readers.info()",
   "id": "57221cb5183d721c",
   "outputs": [
    {
     "name": "stdout",
     "output_type": "stream",
     "text": [
      "<class 'pandas.core.frame.DataFrame'>\n",
      "Index: 95127 entries, 3622 to 1030325\n",
      "Data columns (total 10 columns):\n",
      " #   Column               Non-Null Count  Dtype \n",
      "---  ------               --------------  ----- \n",
      " 0   User-ID              95127 non-null  int64 \n",
      " 1   ISBN                 95127 non-null  object\n",
      " 2   Book-Rating          95127 non-null  int64 \n",
      " 3   Book-Title           95127 non-null  object\n",
      " 4   Book-Author          95127 non-null  object\n",
      " 5   Year-Of-Publication  8383 non-null   object\n",
      " 6   Publisher            95127 non-null  object\n",
      " 7   Image-URL-S          95127 non-null  object\n",
      " 8   Image-URL-M          95127 non-null  object\n",
      " 9   Image-URL-L          95127 non-null  object\n",
      "dtypes: int64(2), object(8)\n",
      "memory usage: 8.0+ MB\n"
     ]
    }
   ],
   "execution_count": 34
  },
  {
   "metadata": {
    "ExecuteTime": {
     "end_time": "2025-08-14T12:13:01.738435Z",
     "start_time": "2025-08-14T12:13:01.564367Z"
    }
   },
   "cell_type": "code",
   "source": [
    "### FILTER DATAROWS (USERS WHICH LEFT MORE THAN th RATINGS) AND EXTRACT \"INTERESTING\" BOOK TITLES\n",
    "# Number of ratings per other books in dataset\n",
    "number_of_rating_per_book = books_of_tolkien_readers.groupby(['Book-Title']).agg('count').reset_index() # I think not only others but also the input book\n"
   ],
   "id": "f6e3e5c03e9b499d",
   "outputs": [],
   "execution_count": 24
  },
  {
   "metadata": {
    "ExecuteTime": {
     "end_time": "2025-08-14T14:37:44.730471Z",
     "start_time": "2025-08-14T14:37:44.651531Z"
    }
   },
   "cell_type": "code",
   "source": "number_of_rating_per_book.info()",
   "id": "e374091a7df92aee",
   "outputs": [
    {
     "name": "stdout",
     "output_type": "stream",
     "text": [
      "<class 'pandas.core.frame.DataFrame'>\n",
      "RangeIndex: 54142 entries, 0 to 54141\n",
      "Data columns (total 10 columns):\n",
      " #   Column               Non-Null Count  Dtype \n",
      "---  ------               --------------  ----- \n",
      " 0   Book-Title           54142 non-null  object\n",
      " 1   User-ID              54142 non-null  int64 \n",
      " 2   ISBN                 54142 non-null  int64 \n",
      " 3   Book-Rating          54142 non-null  int64 \n",
      " 4   Book-Author          54142 non-null  int64 \n",
      " 5   Year-Of-Publication  54142 non-null  int64 \n",
      " 6   Publisher            54142 non-null  int64 \n",
      " 7   Image-URL-S          54142 non-null  int64 \n",
      " 8   Image-URL-M          54142 non-null  int64 \n",
      " 9   Image-URL-L          54142 non-null  int64 \n",
      "dtypes: int64(9), object(1)\n",
      "memory usage: 4.1+ MB\n"
     ]
    }
   ],
   "execution_count": 35
  },
  {
   "metadata": {
    "ExecuteTime": {
     "end_time": "2025-08-14T12:13:09.252839Z",
     "start_time": "2025-08-14T12:13:09.229459Z"
    }
   },
   "cell_type": "code",
   "source": [
    "#select only books which have actually higher number of ratings than threshold\n",
    "# TODO: replace 8 with th\n",
    "books_to_compare = number_of_rating_per_book['Book-Title'][number_of_rating_per_book['User-ID'] >= 8]\n",
    "books_to_compare = books_to_compare.tolist()\n",
    "###\n"
   ],
   "id": "70864256377fd919",
   "outputs": [],
   "execution_count": 25
  },
  {
   "metadata": {
    "ExecuteTime": {
     "end_time": "2025-08-14T14:38:28.459027Z",
     "start_time": "2025-08-14T14:38:28.451379Z"
    }
   },
   "cell_type": "code",
   "source": "print(f\"{len(books_to_compare)=}\")",
   "id": "a37332297cb5b495",
   "outputs": [
    {
     "name": "stdout",
     "output_type": "stream",
     "text": [
      "len(books_to_compare)=1252\n"
     ]
    }
   ],
   "execution_count": 36
  },
  {
   "metadata": {
    "ExecuteTime": {
     "end_time": "2025-08-14T12:13:15.154464Z",
     "start_time": "2025-08-14T12:13:15.110085Z"
    }
   },
   "cell_type": "code",
   "source": "ratings_data_raw = books_of_tolkien_readers[['User-ID', 'Book-Rating', 'Book-Title']][books_of_tolkien_readers['Book-Title'].isin(books_to_compare)]\n",
   "id": "e16dc50985f5a595",
   "outputs": [],
   "execution_count": 26
  },
  {
   "metadata": {
    "ExecuteTime": {
     "end_time": "2025-08-14T14:48:30.009113Z",
     "start_time": "2025-08-14T14:48:29.914228Z"
    }
   },
   "cell_type": "code",
   "source": "ratings_data_raw.info()",
   "id": "79d51df37721b319",
   "outputs": [
    {
     "name": "stdout",
     "output_type": "stream",
     "text": [
      "<class 'pandas.core.frame.DataFrame'>\n",
      "Index: 17744 entries, 3622 to 1030319\n",
      "Data columns (total 3 columns):\n",
      " #   Column       Non-Null Count  Dtype \n",
      "---  ------       --------------  ----- \n",
      " 0   User-ID      17744 non-null  int64 \n",
      " 1   Book-Rating  17744 non-null  int64 \n",
      " 2   Book-Title   17744 non-null  object\n",
      "dtypes: int64(2), object(1)\n",
      "memory usage: 1.0+ MB\n"
     ]
    }
   ],
   "execution_count": 37
  },
  {
   "metadata": {
    "ExecuteTime": {
     "end_time": "2025-08-14T12:13:35.396152Z",
     "start_time": "2025-08-14T12:13:35.322069Z"
    }
   },
   "cell_type": "code",
   "source": [
    "### COMPUTE FINAL RATING\n",
    "# TODO: suggest using other rating computation (for example by weighted rating or by number of ratings\n",
    "# group by User and Book and compute mean\n",
    "ratings_data_raw_nodup = ratings_data_raw.groupby(['User-ID', 'Book-Title'])['Book-Rating'].mean()\n",
    "###\n",
    "# reset index to see User-ID in every row\n",
    "ratings_data_raw_nodup = ratings_data_raw_nodup.to_frame().reset_index()\n",
    "\n",
    "dataset_for_corr = ratings_data_raw_nodup.pivot(index='User-ID', columns='Book-Title', values='Book-Rating')\n"
   ],
   "id": "cd8ddecfba0ff2fc",
   "outputs": [],
   "execution_count": 28
  },
  {
   "metadata": {
    "ExecuteTime": {
     "end_time": "2025-08-14T14:49:43.053516Z",
     "start_time": "2025-08-14T14:49:43.009259Z"
    }
   },
   "cell_type": "code",
   "source": [
    "ratings_data_raw_nodup.info()\n",
    "dataset_for_corr.info()"
   ],
   "id": "d46209c611df7ba1",
   "outputs": [
    {
     "name": "stdout",
     "output_type": "stream",
     "text": [
      "<class 'pandas.core.frame.DataFrame'>\n",
      "RangeIndex: 16818 entries, 0 to 16817\n",
      "Data columns (total 3 columns):\n",
      " #   Column       Non-Null Count  Dtype  \n",
      "---  ------       --------------  -----  \n",
      " 0   User-ID      16818 non-null  int64  \n",
      " 1   Book-Title   16818 non-null  object \n",
      " 2   Book-Rating  16818 non-null  float64\n",
      "dtypes: float64(1), int64(1), object(1)\n",
      "memory usage: 394.3+ KB\n",
      "<class 'pandas.core.frame.DataFrame'>\n",
      "Index: 356 entries, 254 to 278550\n",
      "Columns: 1252 entries, 1984 to zoya\n",
      "dtypes: float64(1252)\n",
      "memory usage: 3.4 MB\n"
     ]
    }
   ],
   "execution_count": 39
  },
  {
   "metadata": {
    "ExecuteTime": {
     "end_time": "2025-08-14T15:21:11.107763Z",
     "start_time": "2025-08-14T15:21:07.227908Z"
    }
   },
   "cell_type": "code",
   "source": [
    "# TODO: replace with dynamic input data\n",
    "LoR_list = ['the fellowship of the ring (the lord of the rings, part 1)']\n",
    "\n",
    "result_list = []\n",
    "worst_list = []\n",
    "\n",
    "# for each of the trilogy book compute:\n",
    "for LoR_book in LoR_list:\n",
    "\n",
    "    ### REMOVE INPUT BOOK FROM DATAFRAME\n",
    "    #Take out the Lord of the Rings selected book from correlation dataframe\n",
    "    dataset_of_other_books = dataset_for_corr.copy(deep=False)\n",
    "    dataset_of_other_books.drop([LoR_book], axis=1, inplace=True)\n",
    "    ###\n",
    "\n",
    "    # empty lists\n",
    "    book_titles = []\n",
    "    correlations = []\n",
    "    avgrating = []\n",
    "\n",
    "    # corr computation\n",
    "    for book_title in list(dataset_of_other_books.columns.values):\n",
    "        book_titles.append(book_title)\n",
    "        # TODO: maybe add a method to calculate the correlation. Default='pearson'\n",
    "        # Calculate correlation between (dataframe of input book) and (dataframe without the input book)\n",
    "        correlations.append(dataset_for_corr[LoR_book].corr(dataset_of_other_books[book_title]))\n",
    "        book_title_indices = ratings_data_raw['Book-Title']==book_title\n",
    "        if ratings_data_raw[book_title_indices].count().iloc[0] == 0:\n",
    "            print(f\"{ratings_data_raw[book_title_indices].count().iloc[0]=}\")\n",
    "            continue\n",
    "        \n",
    "        tab=ratings_data_raw[ratings_data_raw['Book-Title']==book_title].mean(numeric_only=True)\n",
    "        avgrating.append(tab['Book-Rating'].min())\n",
    "    # final dataframe of all correlation of each book   \n",
    "    corr_fellowship = pd.DataFrame(list(zip(book_titles, correlations, avgrating)), columns=['book','corr','avg_rating'])\n",
    "    corr_fellowship.head()\n",
    "\n",
    "    # TODO: optimisation remove double sort\n",
    "    # top 10 books with highest corr\n",
    "    result_list.append(corr_fellowship.sort_values('corr', ascending = False).head(10))\n",
    "\n",
    "    #worst 10 books\n",
    "    worst_list.append(corr_fellowship.sort_values('corr', ascending = False).tail(10))\n"
   ],
   "id": "2458a74469bac941",
   "outputs": [
    {
     "name": "stderr",
     "output_type": "stream",
     "text": [
      "/Users/zlochinus/Library/Caches/pypoetry/virtualenvs/book-recommendation-prod-_6-_ceLn-py3.11/lib/python3.11/site-packages/numpy/lib/_function_base_impl.py:3065: RuntimeWarning: invalid value encountered in divide\n",
      "  c /= stddev[:, None]\n",
      "/Users/zlochinus/Library/Caches/pypoetry/virtualenvs/book-recommendation-prod-_6-_ceLn-py3.11/lib/python3.11/site-packages/numpy/lib/_function_base_impl.py:3066: RuntimeWarning: invalid value encountered in divide\n",
      "  c /= stddev[None, :]\n",
      "/Users/zlochinus/Library/Caches/pypoetry/virtualenvs/book-recommendation-prod-_6-_ceLn-py3.11/lib/python3.11/site-packages/numpy/lib/_function_base_impl.py:3065: RuntimeWarning: invalid value encountered in divide\n",
      "  c /= stddev[:, None]\n",
      "/Users/zlochinus/Library/Caches/pypoetry/virtualenvs/book-recommendation-prod-_6-_ceLn-py3.11/lib/python3.11/site-packages/numpy/lib/_function_base_impl.py:3066: RuntimeWarning: invalid value encountered in divide\n",
      "  c /= stddev[None, :]\n",
      "/Users/zlochinus/Library/Caches/pypoetry/virtualenvs/book-recommendation-prod-_6-_ceLn-py3.11/lib/python3.11/site-packages/numpy/lib/_function_base_impl.py:3065: RuntimeWarning: invalid value encountered in divide\n",
      "  c /= stddev[:, None]\n",
      "/Users/zlochinus/Library/Caches/pypoetry/virtualenvs/book-recommendation-prod-_6-_ceLn-py3.11/lib/python3.11/site-packages/numpy/lib/_function_base_impl.py:3066: RuntimeWarning: invalid value encountered in divide\n",
      "  c /= stddev[None, :]\n",
      "/Users/zlochinus/Library/Caches/pypoetry/virtualenvs/book-recommendation-prod-_6-_ceLn-py3.11/lib/python3.11/site-packages/numpy/lib/_function_base_impl.py:3065: RuntimeWarning: invalid value encountered in divide\n",
      "  c /= stddev[:, None]\n",
      "/Users/zlochinus/Library/Caches/pypoetry/virtualenvs/book-recommendation-prod-_6-_ceLn-py3.11/lib/python3.11/site-packages/numpy/lib/_function_base_impl.py:3066: RuntimeWarning: invalid value encountered in divide\n",
      "  c /= stddev[None, :]\n",
      "/Users/zlochinus/Library/Caches/pypoetry/virtualenvs/book-recommendation-prod-_6-_ceLn-py3.11/lib/python3.11/site-packages/numpy/lib/_function_base_impl.py:3065: RuntimeWarning: invalid value encountered in divide\n",
      "  c /= stddev[:, None]\n",
      "/Users/zlochinus/Library/Caches/pypoetry/virtualenvs/book-recommendation-prod-_6-_ceLn-py3.11/lib/python3.11/site-packages/numpy/lib/_function_base_impl.py:3066: RuntimeWarning: invalid value encountered in divide\n",
      "  c /= stddev[None, :]\n",
      "/Users/zlochinus/Library/Caches/pypoetry/virtualenvs/book-recommendation-prod-_6-_ceLn-py3.11/lib/python3.11/site-packages/numpy/lib/_function_base_impl.py:3065: RuntimeWarning: invalid value encountered in divide\n",
      "  c /= stddev[:, None]\n",
      "/Users/zlochinus/Library/Caches/pypoetry/virtualenvs/book-recommendation-prod-_6-_ceLn-py3.11/lib/python3.11/site-packages/numpy/lib/_function_base_impl.py:3066: RuntimeWarning: invalid value encountered in divide\n",
      "  c /= stddev[None, :]\n",
      "/Users/zlochinus/Library/Caches/pypoetry/virtualenvs/book-recommendation-prod-_6-_ceLn-py3.11/lib/python3.11/site-packages/numpy/lib/_function_base_impl.py:3065: RuntimeWarning: invalid value encountered in divide\n",
      "  c /= stddev[:, None]\n",
      "/Users/zlochinus/Library/Caches/pypoetry/virtualenvs/book-recommendation-prod-_6-_ceLn-py3.11/lib/python3.11/site-packages/numpy/lib/_function_base_impl.py:3066: RuntimeWarning: invalid value encountered in divide\n",
      "  c /= stddev[None, :]\n",
      "/Users/zlochinus/Library/Caches/pypoetry/virtualenvs/book-recommendation-prod-_6-_ceLn-py3.11/lib/python3.11/site-packages/numpy/lib/_function_base_impl.py:3065: RuntimeWarning: invalid value encountered in divide\n",
      "  c /= stddev[:, None]\n",
      "/Users/zlochinus/Library/Caches/pypoetry/virtualenvs/book-recommendation-prod-_6-_ceLn-py3.11/lib/python3.11/site-packages/numpy/lib/_function_base_impl.py:3066: RuntimeWarning: invalid value encountered in divide\n",
      "  c /= stddev[None, :]\n",
      "/Users/zlochinus/Library/Caches/pypoetry/virtualenvs/book-recommendation-prod-_6-_ceLn-py3.11/lib/python3.11/site-packages/numpy/lib/_function_base_impl.py:3065: RuntimeWarning: invalid value encountered in divide\n",
      "  c /= stddev[:, None]\n",
      "/Users/zlochinus/Library/Caches/pypoetry/virtualenvs/book-recommendation-prod-_6-_ceLn-py3.11/lib/python3.11/site-packages/numpy/lib/_function_base_impl.py:3066: RuntimeWarning: invalid value encountered in divide\n",
      "  c /= stddev[None, :]\n",
      "/Users/zlochinus/Library/Caches/pypoetry/virtualenvs/book-recommendation-prod-_6-_ceLn-py3.11/lib/python3.11/site-packages/numpy/lib/_function_base_impl.py:3065: RuntimeWarning: invalid value encountered in divide\n",
      "  c /= stddev[:, None]\n",
      "/Users/zlochinus/Library/Caches/pypoetry/virtualenvs/book-recommendation-prod-_6-_ceLn-py3.11/lib/python3.11/site-packages/numpy/lib/_function_base_impl.py:3066: RuntimeWarning: invalid value encountered in divide\n",
      "  c /= stddev[None, :]\n",
      "/Users/zlochinus/Library/Caches/pypoetry/virtualenvs/book-recommendation-prod-_6-_ceLn-py3.11/lib/python3.11/site-packages/numpy/lib/_function_base_impl.py:3065: RuntimeWarning: invalid value encountered in divide\n",
      "  c /= stddev[:, None]\n",
      "/Users/zlochinus/Library/Caches/pypoetry/virtualenvs/book-recommendation-prod-_6-_ceLn-py3.11/lib/python3.11/site-packages/numpy/lib/_function_base_impl.py:3066: RuntimeWarning: invalid value encountered in divide\n",
      "  c /= stddev[None, :]\n",
      "/Users/zlochinus/Library/Caches/pypoetry/virtualenvs/book-recommendation-prod-_6-_ceLn-py3.11/lib/python3.11/site-packages/numpy/lib/_function_base_impl.py:3065: RuntimeWarning: invalid value encountered in divide\n",
      "  c /= stddev[:, None]\n",
      "/Users/zlochinus/Library/Caches/pypoetry/virtualenvs/book-recommendation-prod-_6-_ceLn-py3.11/lib/python3.11/site-packages/numpy/lib/_function_base_impl.py:3066: RuntimeWarning: invalid value encountered in divide\n",
      "  c /= stddev[None, :]\n",
      "/Users/zlochinus/Library/Caches/pypoetry/virtualenvs/book-recommendation-prod-_6-_ceLn-py3.11/lib/python3.11/site-packages/numpy/lib/_function_base_impl.py:3065: RuntimeWarning: invalid value encountered in divide\n",
      "  c /= stddev[:, None]\n",
      "/Users/zlochinus/Library/Caches/pypoetry/virtualenvs/book-recommendation-prod-_6-_ceLn-py3.11/lib/python3.11/site-packages/numpy/lib/_function_base_impl.py:3066: RuntimeWarning: invalid value encountered in divide\n",
      "  c /= stddev[None, :]\n",
      "/Users/zlochinus/Library/Caches/pypoetry/virtualenvs/book-recommendation-prod-_6-_ceLn-py3.11/lib/python3.11/site-packages/numpy/lib/_function_base_impl.py:3065: RuntimeWarning: invalid value encountered in divide\n",
      "  c /= stddev[:, None]\n",
      "/Users/zlochinus/Library/Caches/pypoetry/virtualenvs/book-recommendation-prod-_6-_ceLn-py3.11/lib/python3.11/site-packages/numpy/lib/_function_base_impl.py:3066: RuntimeWarning: invalid value encountered in divide\n",
      "  c /= stddev[None, :]\n",
      "/Users/zlochinus/Library/Caches/pypoetry/virtualenvs/book-recommendation-prod-_6-_ceLn-py3.11/lib/python3.11/site-packages/numpy/lib/_function_base_impl.py:3065: RuntimeWarning: invalid value encountered in divide\n",
      "  c /= stddev[:, None]\n",
      "/Users/zlochinus/Library/Caches/pypoetry/virtualenvs/book-recommendation-prod-_6-_ceLn-py3.11/lib/python3.11/site-packages/numpy/lib/_function_base_impl.py:3066: RuntimeWarning: invalid value encountered in divide\n",
      "  c /= stddev[None, :]\n",
      "/Users/zlochinus/Library/Caches/pypoetry/virtualenvs/book-recommendation-prod-_6-_ceLn-py3.11/lib/python3.11/site-packages/numpy/lib/_function_base_impl.py:3065: RuntimeWarning: invalid value encountered in divide\n",
      "  c /= stddev[:, None]\n",
      "/Users/zlochinus/Library/Caches/pypoetry/virtualenvs/book-recommendation-prod-_6-_ceLn-py3.11/lib/python3.11/site-packages/numpy/lib/_function_base_impl.py:3066: RuntimeWarning: invalid value encountered in divide\n",
      "  c /= stddev[None, :]\n",
      "/Users/zlochinus/Library/Caches/pypoetry/virtualenvs/book-recommendation-prod-_6-_ceLn-py3.11/lib/python3.11/site-packages/numpy/lib/_function_base_impl.py:3065: RuntimeWarning: invalid value encountered in divide\n",
      "  c /= stddev[:, None]\n",
      "/Users/zlochinus/Library/Caches/pypoetry/virtualenvs/book-recommendation-prod-_6-_ceLn-py3.11/lib/python3.11/site-packages/numpy/lib/_function_base_impl.py:3066: RuntimeWarning: invalid value encountered in divide\n",
      "  c /= stddev[None, :]\n",
      "/Users/zlochinus/Library/Caches/pypoetry/virtualenvs/book-recommendation-prod-_6-_ceLn-py3.11/lib/python3.11/site-packages/numpy/lib/_function_base_impl.py:3065: RuntimeWarning: invalid value encountered in divide\n",
      "  c /= stddev[:, None]\n",
      "/Users/zlochinus/Library/Caches/pypoetry/virtualenvs/book-recommendation-prod-_6-_ceLn-py3.11/lib/python3.11/site-packages/numpy/lib/_function_base_impl.py:3066: RuntimeWarning: invalid value encountered in divide\n",
      "  c /= stddev[None, :]\n",
      "/Users/zlochinus/Library/Caches/pypoetry/virtualenvs/book-recommendation-prod-_6-_ceLn-py3.11/lib/python3.11/site-packages/numpy/lib/_function_base_impl.py:3065: RuntimeWarning: invalid value encountered in divide\n",
      "  c /= stddev[:, None]\n",
      "/Users/zlochinus/Library/Caches/pypoetry/virtualenvs/book-recommendation-prod-_6-_ceLn-py3.11/lib/python3.11/site-packages/numpy/lib/_function_base_impl.py:3066: RuntimeWarning: invalid value encountered in divide\n",
      "  c /= stddev[None, :]\n",
      "/Users/zlochinus/Library/Caches/pypoetry/virtualenvs/book-recommendation-prod-_6-_ceLn-py3.11/lib/python3.11/site-packages/numpy/lib/_function_base_impl.py:3065: RuntimeWarning: invalid value encountered in divide\n",
      "  c /= stddev[:, None]\n",
      "/Users/zlochinus/Library/Caches/pypoetry/virtualenvs/book-recommendation-prod-_6-_ceLn-py3.11/lib/python3.11/site-packages/numpy/lib/_function_base_impl.py:3066: RuntimeWarning: invalid value encountered in divide\n",
      "  c /= stddev[None, :]\n",
      "/Users/zlochinus/Library/Caches/pypoetry/virtualenvs/book-recommendation-prod-_6-_ceLn-py3.11/lib/python3.11/site-packages/numpy/lib/_function_base_impl.py:3065: RuntimeWarning: invalid value encountered in divide\n",
      "  c /= stddev[:, None]\n",
      "/Users/zlochinus/Library/Caches/pypoetry/virtualenvs/book-recommendation-prod-_6-_ceLn-py3.11/lib/python3.11/site-packages/numpy/lib/_function_base_impl.py:3066: RuntimeWarning: invalid value encountered in divide\n",
      "  c /= stddev[None, :]\n",
      "/Users/zlochinus/Library/Caches/pypoetry/virtualenvs/book-recommendation-prod-_6-_ceLn-py3.11/lib/python3.11/site-packages/numpy/lib/_function_base_impl.py:3065: RuntimeWarning: invalid value encountered in divide\n",
      "  c /= stddev[:, None]\n",
      "/Users/zlochinus/Library/Caches/pypoetry/virtualenvs/book-recommendation-prod-_6-_ceLn-py3.11/lib/python3.11/site-packages/numpy/lib/_function_base_impl.py:3066: RuntimeWarning: invalid value encountered in divide\n",
      "  c /= stddev[None, :]\n",
      "/Users/zlochinus/Library/Caches/pypoetry/virtualenvs/book-recommendation-prod-_6-_ceLn-py3.11/lib/python3.11/site-packages/numpy/lib/_function_base_impl.py:3065: RuntimeWarning: invalid value encountered in divide\n",
      "  c /= stddev[:, None]\n",
      "/Users/zlochinus/Library/Caches/pypoetry/virtualenvs/book-recommendation-prod-_6-_ceLn-py3.11/lib/python3.11/site-packages/numpy/lib/_function_base_impl.py:3066: RuntimeWarning: invalid value encountered in divide\n",
      "  c /= stddev[None, :]\n",
      "/Users/zlochinus/Library/Caches/pypoetry/virtualenvs/book-recommendation-prod-_6-_ceLn-py3.11/lib/python3.11/site-packages/numpy/lib/_function_base_impl.py:3065: RuntimeWarning: invalid value encountered in divide\n",
      "  c /= stddev[:, None]\n",
      "/Users/zlochinus/Library/Caches/pypoetry/virtualenvs/book-recommendation-prod-_6-_ceLn-py3.11/lib/python3.11/site-packages/numpy/lib/_function_base_impl.py:3066: RuntimeWarning: invalid value encountered in divide\n",
      "  c /= stddev[None, :]\n",
      "/Users/zlochinus/Library/Caches/pypoetry/virtualenvs/book-recommendation-prod-_6-_ceLn-py3.11/lib/python3.11/site-packages/numpy/lib/_function_base_impl.py:3065: RuntimeWarning: invalid value encountered in divide\n",
      "  c /= stddev[:, None]\n",
      "/Users/zlochinus/Library/Caches/pypoetry/virtualenvs/book-recommendation-prod-_6-_ceLn-py3.11/lib/python3.11/site-packages/numpy/lib/_function_base_impl.py:3066: RuntimeWarning: invalid value encountered in divide\n",
      "  c /= stddev[None, :]\n",
      "/Users/zlochinus/Library/Caches/pypoetry/virtualenvs/book-recommendation-prod-_6-_ceLn-py3.11/lib/python3.11/site-packages/numpy/lib/_function_base_impl.py:3065: RuntimeWarning: invalid value encountered in divide\n",
      "  c /= stddev[:, None]\n",
      "/Users/zlochinus/Library/Caches/pypoetry/virtualenvs/book-recommendation-prod-_6-_ceLn-py3.11/lib/python3.11/site-packages/numpy/lib/_function_base_impl.py:3066: RuntimeWarning: invalid value encountered in divide\n",
      "  c /= stddev[None, :]\n",
      "/Users/zlochinus/Library/Caches/pypoetry/virtualenvs/book-recommendation-prod-_6-_ceLn-py3.11/lib/python3.11/site-packages/numpy/lib/_function_base_impl.py:3065: RuntimeWarning: invalid value encountered in divide\n",
      "  c /= stddev[:, None]\n",
      "/Users/zlochinus/Library/Caches/pypoetry/virtualenvs/book-recommendation-prod-_6-_ceLn-py3.11/lib/python3.11/site-packages/numpy/lib/_function_base_impl.py:3066: RuntimeWarning: invalid value encountered in divide\n",
      "  c /= stddev[None, :]\n",
      "/Users/zlochinus/Library/Caches/pypoetry/virtualenvs/book-recommendation-prod-_6-_ceLn-py3.11/lib/python3.11/site-packages/numpy/lib/_function_base_impl.py:3065: RuntimeWarning: invalid value encountered in divide\n",
      "  c /= stddev[:, None]\n",
      "/Users/zlochinus/Library/Caches/pypoetry/virtualenvs/book-recommendation-prod-_6-_ceLn-py3.11/lib/python3.11/site-packages/numpy/lib/_function_base_impl.py:3066: RuntimeWarning: invalid value encountered in divide\n",
      "  c /= stddev[None, :]\n",
      "/Users/zlochinus/Library/Caches/pypoetry/virtualenvs/book-recommendation-prod-_6-_ceLn-py3.11/lib/python3.11/site-packages/numpy/lib/_function_base_impl.py:3065: RuntimeWarning: invalid value encountered in divide\n",
      "  c /= stddev[:, None]\n",
      "/Users/zlochinus/Library/Caches/pypoetry/virtualenvs/book-recommendation-prod-_6-_ceLn-py3.11/lib/python3.11/site-packages/numpy/lib/_function_base_impl.py:3066: RuntimeWarning: invalid value encountered in divide\n",
      "  c /= stddev[None, :]\n",
      "/Users/zlochinus/Library/Caches/pypoetry/virtualenvs/book-recommendation-prod-_6-_ceLn-py3.11/lib/python3.11/site-packages/numpy/lib/_function_base_impl.py:3065: RuntimeWarning: invalid value encountered in divide\n",
      "  c /= stddev[:, None]\n"
     ]
    }
   ],
   "execution_count": 72
  },
  {
   "metadata": {
    "ExecuteTime": {
     "end_time": "2025-08-14T15:13:03.175313Z",
     "start_time": "2025-08-14T15:13:03.134798Z"
    }
   },
   "cell_type": "code",
   "source": [
    "a = ratings_data_raw[ratings_data_raw['Book-Title']==book_title]\n",
    "b = a.groupby(ratings_data_raw['Book-Title'])"
   ],
   "id": "4628529e6188d71c",
   "outputs": [],
   "execution_count": 58
  },
  {
   "metadata": {
    "ExecuteTime": {
     "end_time": "2025-08-14T15:04:33.892073Z",
     "start_time": "2025-08-14T15:04:33.856099Z"
    }
   },
   "cell_type": "code",
   "source": [
    "a.info()\n",
    "a\n"
   ],
   "id": "617c990103269397",
   "outputs": [
    {
     "name": "stdout",
     "output_type": "stream",
     "text": [
      "<class 'pandas.core.frame.DataFrame'>\n",
      "Index: 27 entries, 8935 to 1028671\n",
      "Data columns (total 3 columns):\n",
      " #   Column       Non-Null Count  Dtype \n",
      "---  ------       --------------  ----- \n",
      " 0   User-ID      27 non-null     int64 \n",
      " 1   Book-Rating  27 non-null     int64 \n",
      " 2   Book-Title   27 non-null     object\n",
      "dtypes: int64(2), object(1)\n",
      "memory usage: 864.0+ bytes\n"
     ]
    },
    {
     "data": {
      "text/plain": [
       "         User-ID  Book-Rating Book-Title\n",
       "8935         254            9       1984\n",
       "44793      11676            0       1984\n",
       "44814      11676            0       1984\n",
       "44836      11676           10       1984\n",
       "51483      11944            0       1984\n",
       "69558      16795            8       1984\n",
       "90763      23872            7       1984\n",
       "156273     37950            0       1984\n",
       "165446     40885            0       1984\n",
       "200023     52350            0       1984\n",
       "222293     56856            0       1984\n",
       "233224     60244            9       1984\n",
       "301553     80071            8       1984\n",
       "325899     87555            0       1984\n",
       "325912     87555           10       1984\n",
       "421296    112765            0       1984\n",
       "498755    133935            7       1984\n",
       "530051    142672            0       1984\n",
       "656339    177432           10       1984\n",
       "681071    184299            0       1984\n",
       "752939    203968            0       1984\n",
       "766097    207246            0       1984\n",
       "798961    215986            8       1984\n",
       "872402    234828            0       1984\n",
       "904257    242083            7       1984\n",
       "971696    259057           10       1984\n",
       "1028671   275970            0       1984"
      ],
      "text/html": [
       "<div>\n",
       "<style scoped>\n",
       "    .dataframe tbody tr th:only-of-type {\n",
       "        vertical-align: middle;\n",
       "    }\n",
       "\n",
       "    .dataframe tbody tr th {\n",
       "        vertical-align: top;\n",
       "    }\n",
       "\n",
       "    .dataframe thead th {\n",
       "        text-align: right;\n",
       "    }\n",
       "</style>\n",
       "<table border=\"1\" class=\"dataframe\">\n",
       "  <thead>\n",
       "    <tr style=\"text-align: right;\">\n",
       "      <th></th>\n",
       "      <th>User-ID</th>\n",
       "      <th>Book-Rating</th>\n",
       "      <th>Book-Title</th>\n",
       "    </tr>\n",
       "  </thead>\n",
       "  <tbody>\n",
       "    <tr>\n",
       "      <th>8935</th>\n",
       "      <td>254</td>\n",
       "      <td>9</td>\n",
       "      <td>1984</td>\n",
       "    </tr>\n",
       "    <tr>\n",
       "      <th>44793</th>\n",
       "      <td>11676</td>\n",
       "      <td>0</td>\n",
       "      <td>1984</td>\n",
       "    </tr>\n",
       "    <tr>\n",
       "      <th>44814</th>\n",
       "      <td>11676</td>\n",
       "      <td>0</td>\n",
       "      <td>1984</td>\n",
       "    </tr>\n",
       "    <tr>\n",
       "      <th>44836</th>\n",
       "      <td>11676</td>\n",
       "      <td>10</td>\n",
       "      <td>1984</td>\n",
       "    </tr>\n",
       "    <tr>\n",
       "      <th>51483</th>\n",
       "      <td>11944</td>\n",
       "      <td>0</td>\n",
       "      <td>1984</td>\n",
       "    </tr>\n",
       "    <tr>\n",
       "      <th>69558</th>\n",
       "      <td>16795</td>\n",
       "      <td>8</td>\n",
       "      <td>1984</td>\n",
       "    </tr>\n",
       "    <tr>\n",
       "      <th>90763</th>\n",
       "      <td>23872</td>\n",
       "      <td>7</td>\n",
       "      <td>1984</td>\n",
       "    </tr>\n",
       "    <tr>\n",
       "      <th>156273</th>\n",
       "      <td>37950</td>\n",
       "      <td>0</td>\n",
       "      <td>1984</td>\n",
       "    </tr>\n",
       "    <tr>\n",
       "      <th>165446</th>\n",
       "      <td>40885</td>\n",
       "      <td>0</td>\n",
       "      <td>1984</td>\n",
       "    </tr>\n",
       "    <tr>\n",
       "      <th>200023</th>\n",
       "      <td>52350</td>\n",
       "      <td>0</td>\n",
       "      <td>1984</td>\n",
       "    </tr>\n",
       "    <tr>\n",
       "      <th>222293</th>\n",
       "      <td>56856</td>\n",
       "      <td>0</td>\n",
       "      <td>1984</td>\n",
       "    </tr>\n",
       "    <tr>\n",
       "      <th>233224</th>\n",
       "      <td>60244</td>\n",
       "      <td>9</td>\n",
       "      <td>1984</td>\n",
       "    </tr>\n",
       "    <tr>\n",
       "      <th>301553</th>\n",
       "      <td>80071</td>\n",
       "      <td>8</td>\n",
       "      <td>1984</td>\n",
       "    </tr>\n",
       "    <tr>\n",
       "      <th>325899</th>\n",
       "      <td>87555</td>\n",
       "      <td>0</td>\n",
       "      <td>1984</td>\n",
       "    </tr>\n",
       "    <tr>\n",
       "      <th>325912</th>\n",
       "      <td>87555</td>\n",
       "      <td>10</td>\n",
       "      <td>1984</td>\n",
       "    </tr>\n",
       "    <tr>\n",
       "      <th>421296</th>\n",
       "      <td>112765</td>\n",
       "      <td>0</td>\n",
       "      <td>1984</td>\n",
       "    </tr>\n",
       "    <tr>\n",
       "      <th>498755</th>\n",
       "      <td>133935</td>\n",
       "      <td>7</td>\n",
       "      <td>1984</td>\n",
       "    </tr>\n",
       "    <tr>\n",
       "      <th>530051</th>\n",
       "      <td>142672</td>\n",
       "      <td>0</td>\n",
       "      <td>1984</td>\n",
       "    </tr>\n",
       "    <tr>\n",
       "      <th>656339</th>\n",
       "      <td>177432</td>\n",
       "      <td>10</td>\n",
       "      <td>1984</td>\n",
       "    </tr>\n",
       "    <tr>\n",
       "      <th>681071</th>\n",
       "      <td>184299</td>\n",
       "      <td>0</td>\n",
       "      <td>1984</td>\n",
       "    </tr>\n",
       "    <tr>\n",
       "      <th>752939</th>\n",
       "      <td>203968</td>\n",
       "      <td>0</td>\n",
       "      <td>1984</td>\n",
       "    </tr>\n",
       "    <tr>\n",
       "      <th>766097</th>\n",
       "      <td>207246</td>\n",
       "      <td>0</td>\n",
       "      <td>1984</td>\n",
       "    </tr>\n",
       "    <tr>\n",
       "      <th>798961</th>\n",
       "      <td>215986</td>\n",
       "      <td>8</td>\n",
       "      <td>1984</td>\n",
       "    </tr>\n",
       "    <tr>\n",
       "      <th>872402</th>\n",
       "      <td>234828</td>\n",
       "      <td>0</td>\n",
       "      <td>1984</td>\n",
       "    </tr>\n",
       "    <tr>\n",
       "      <th>904257</th>\n",
       "      <td>242083</td>\n",
       "      <td>7</td>\n",
       "      <td>1984</td>\n",
       "    </tr>\n",
       "    <tr>\n",
       "      <th>971696</th>\n",
       "      <td>259057</td>\n",
       "      <td>10</td>\n",
       "      <td>1984</td>\n",
       "    </tr>\n",
       "    <tr>\n",
       "      <th>1028671</th>\n",
       "      <td>275970</td>\n",
       "      <td>0</td>\n",
       "      <td>1984</td>\n",
       "    </tr>\n",
       "  </tbody>\n",
       "</table>\n",
       "</div>"
      ]
     },
     "execution_count": 49,
     "metadata": {},
     "output_type": "execute_result"
    }
   ],
   "execution_count": 49
  },
  {
   "metadata": {
    "ExecuteTime": {
     "end_time": "2025-08-14T15:16:12.306212Z",
     "start_time": "2025-08-14T15:16:12.277461Z"
    }
   },
   "cell_type": "code",
   "source": [
    "\n",
    "a.mean(axis=0, numeric_only=True)\n"
   ],
   "id": "a04fdf2bf108db4",
   "outputs": [
    {
     "data": {
      "text/plain": [
       "User-ID        110429.629630\n",
       "Book-Rating         3.814815\n",
       "dtype: float64"
      ]
     },
     "execution_count": 64,
     "metadata": {},
     "output_type": "execute_result"
    }
   ],
   "execution_count": 64
  },
  {
   "metadata": {
    "ExecuteTime": {
     "end_time": "2025-08-14T15:12:40.217246Z",
     "start_time": "2025-08-14T15:12:40.172637Z"
    }
   },
   "cell_type": "code",
   "source": "b.describe()",
   "id": "ef622e131e7929ee",
   "outputs": [
    {
     "data": {
      "text/plain": [
       "           User-ID                                                       \\\n",
       "             count          mean           std    min      25%      50%   \n",
       "Book-Title                                                                \n",
       "1984          27.0  110429.62963  90146.088761  254.0  30911.0  87555.0   \n",
       "\n",
       "                               Book-Rating                                     \\\n",
       "                 75%       max       count      mean       std  min  25%  50%   \n",
       "Book-Title                                                                      \n",
       "1984        194133.5  275970.0        27.0  3.814815  4.420555  0.0  0.0  0.0   \n",
       "\n",
       "                       \n",
       "            75%   max  \n",
       "Book-Title             \n",
       "1984        8.0  10.0  "
      ],
      "text/html": [
       "<div>\n",
       "<style scoped>\n",
       "    .dataframe tbody tr th:only-of-type {\n",
       "        vertical-align: middle;\n",
       "    }\n",
       "\n",
       "    .dataframe tbody tr th {\n",
       "        vertical-align: top;\n",
       "    }\n",
       "\n",
       "    .dataframe thead tr th {\n",
       "        text-align: left;\n",
       "    }\n",
       "\n",
       "    .dataframe thead tr:last-of-type th {\n",
       "        text-align: right;\n",
       "    }\n",
       "</style>\n",
       "<table border=\"1\" class=\"dataframe\">\n",
       "  <thead>\n",
       "    <tr>\n",
       "      <th></th>\n",
       "      <th colspan=\"8\" halign=\"left\">User-ID</th>\n",
       "      <th colspan=\"8\" halign=\"left\">Book-Rating</th>\n",
       "    </tr>\n",
       "    <tr>\n",
       "      <th></th>\n",
       "      <th>count</th>\n",
       "      <th>mean</th>\n",
       "      <th>std</th>\n",
       "      <th>min</th>\n",
       "      <th>25%</th>\n",
       "      <th>50%</th>\n",
       "      <th>75%</th>\n",
       "      <th>max</th>\n",
       "      <th>count</th>\n",
       "      <th>mean</th>\n",
       "      <th>std</th>\n",
       "      <th>min</th>\n",
       "      <th>25%</th>\n",
       "      <th>50%</th>\n",
       "      <th>75%</th>\n",
       "      <th>max</th>\n",
       "    </tr>\n",
       "    <tr>\n",
       "      <th>Book-Title</th>\n",
       "      <th></th>\n",
       "      <th></th>\n",
       "      <th></th>\n",
       "      <th></th>\n",
       "      <th></th>\n",
       "      <th></th>\n",
       "      <th></th>\n",
       "      <th></th>\n",
       "      <th></th>\n",
       "      <th></th>\n",
       "      <th></th>\n",
       "      <th></th>\n",
       "      <th></th>\n",
       "      <th></th>\n",
       "      <th></th>\n",
       "      <th></th>\n",
       "    </tr>\n",
       "  </thead>\n",
       "  <tbody>\n",
       "    <tr>\n",
       "      <th>1984</th>\n",
       "      <td>27.0</td>\n",
       "      <td>110429.62963</td>\n",
       "      <td>90146.088761</td>\n",
       "      <td>254.0</td>\n",
       "      <td>30911.0</td>\n",
       "      <td>87555.0</td>\n",
       "      <td>194133.5</td>\n",
       "      <td>275970.0</td>\n",
       "      <td>27.0</td>\n",
       "      <td>3.814815</td>\n",
       "      <td>4.420555</td>\n",
       "      <td>0.0</td>\n",
       "      <td>0.0</td>\n",
       "      <td>0.0</td>\n",
       "      <td>8.0</td>\n",
       "      <td>10.0</td>\n",
       "    </tr>\n",
       "  </tbody>\n",
       "</table>\n",
       "</div>"
      ]
     },
     "execution_count": 57,
     "metadata": {},
     "output_type": "execute_result"
    }
   ],
   "execution_count": 57
  },
  {
   "metadata": {
    "ExecuteTime": {
     "end_time": "2025-08-14T14:56:13.893786Z",
     "start_time": "2025-08-14T14:56:13.870756Z"
    }
   },
   "cell_type": "code",
   "source": [
    "\n",
    "book_title"
   ],
   "id": "d27f145357e2fb50",
   "outputs": [
    {
     "data": {
      "text/plain": [
       "'1984'"
      ]
     },
     "execution_count": 46,
     "metadata": {},
     "output_type": "execute_result"
    }
   ],
   "execution_count": 46
  },
  {
   "metadata": {
    "ExecuteTime": {
     "end_time": "2025-08-14T15:07:27.023592Z",
     "start_time": "2025-08-14T15:07:26.992726Z"
    }
   },
   "cell_type": "code",
   "source": "ratings_data_raw\n",
   "id": "46f4727ab998f85b",
   "outputs": [
    {
     "data": {
      "text/plain": [
       "         User-ID  Book-Rating  \\\n",
       "3622      278246            8   \n",
       "7970      278550           10   \n",
       "8748         254            0   \n",
       "8750         254            0   \n",
       "8752         254            0   \n",
       "...          ...          ...   \n",
       "1030299   276463            0   \n",
       "1030304   276463            0   \n",
       "1030305   276463            0   \n",
       "1030318   276463            0   \n",
       "1030319   276463            8   \n",
       "\n",
       "                                                Book-Title  \n",
       "3622     the fellowship of the ring (the lord of the ri...  \n",
       "7970     the fellowship of the ring (the lord of the ri...  \n",
       "8748                         the poisonwood bible: a novel  \n",
       "8750                                              stardust  \n",
       "8752            equal rites (discworld novels (paperback))  \n",
       "...                                                    ...  \n",
       "1030299    the golden compass (his dark materials, book 1)  \n",
       "1030304                            the things they carried  \n",
       "1030305                artemis fowl (artemis fowl, book 1)  \n",
       "1030318  tears of the giraffe (no.1 ladies detective ag...  \n",
       "1030319  morality for beautiful girls (no.1 ladies dete...  \n",
       "\n",
       "[17744 rows x 3 columns]"
      ],
      "text/html": [
       "<div>\n",
       "<style scoped>\n",
       "    .dataframe tbody tr th:only-of-type {\n",
       "        vertical-align: middle;\n",
       "    }\n",
       "\n",
       "    .dataframe tbody tr th {\n",
       "        vertical-align: top;\n",
       "    }\n",
       "\n",
       "    .dataframe thead th {\n",
       "        text-align: right;\n",
       "    }\n",
       "</style>\n",
       "<table border=\"1\" class=\"dataframe\">\n",
       "  <thead>\n",
       "    <tr style=\"text-align: right;\">\n",
       "      <th></th>\n",
       "      <th>User-ID</th>\n",
       "      <th>Book-Rating</th>\n",
       "      <th>Book-Title</th>\n",
       "    </tr>\n",
       "  </thead>\n",
       "  <tbody>\n",
       "    <tr>\n",
       "      <th>3622</th>\n",
       "      <td>278246</td>\n",
       "      <td>8</td>\n",
       "      <td>the fellowship of the ring (the lord of the ri...</td>\n",
       "    </tr>\n",
       "    <tr>\n",
       "      <th>7970</th>\n",
       "      <td>278550</td>\n",
       "      <td>10</td>\n",
       "      <td>the fellowship of the ring (the lord of the ri...</td>\n",
       "    </tr>\n",
       "    <tr>\n",
       "      <th>8748</th>\n",
       "      <td>254</td>\n",
       "      <td>0</td>\n",
       "      <td>the poisonwood bible: a novel</td>\n",
       "    </tr>\n",
       "    <tr>\n",
       "      <th>8750</th>\n",
       "      <td>254</td>\n",
       "      <td>0</td>\n",
       "      <td>stardust</td>\n",
       "    </tr>\n",
       "    <tr>\n",
       "      <th>8752</th>\n",
       "      <td>254</td>\n",
       "      <td>0</td>\n",
       "      <td>equal rites (discworld novels (paperback))</td>\n",
       "    </tr>\n",
       "    <tr>\n",
       "      <th>...</th>\n",
       "      <td>...</td>\n",
       "      <td>...</td>\n",
       "      <td>...</td>\n",
       "    </tr>\n",
       "    <tr>\n",
       "      <th>1030299</th>\n",
       "      <td>276463</td>\n",
       "      <td>0</td>\n",
       "      <td>the golden compass (his dark materials, book 1)</td>\n",
       "    </tr>\n",
       "    <tr>\n",
       "      <th>1030304</th>\n",
       "      <td>276463</td>\n",
       "      <td>0</td>\n",
       "      <td>the things they carried</td>\n",
       "    </tr>\n",
       "    <tr>\n",
       "      <th>1030305</th>\n",
       "      <td>276463</td>\n",
       "      <td>0</td>\n",
       "      <td>artemis fowl (artemis fowl, book 1)</td>\n",
       "    </tr>\n",
       "    <tr>\n",
       "      <th>1030318</th>\n",
       "      <td>276463</td>\n",
       "      <td>0</td>\n",
       "      <td>tears of the giraffe (no.1 ladies detective ag...</td>\n",
       "    </tr>\n",
       "    <tr>\n",
       "      <th>1030319</th>\n",
       "      <td>276463</td>\n",
       "      <td>8</td>\n",
       "      <td>morality for beautiful girls (no.1 ladies dete...</td>\n",
       "    </tr>\n",
       "  </tbody>\n",
       "</table>\n",
       "<p>17744 rows × 3 columns</p>\n",
       "</div>"
      ]
     },
     "execution_count": 52,
     "metadata": {},
     "output_type": "execute_result"
    }
   ],
   "execution_count": 52
  },
  {
   "metadata": {
    "ExecuteTime": {
     "end_time": "2025-08-14T15:21:41.084408Z",
     "start_time": "2025-08-14T15:21:41.045542Z"
    }
   },
   "cell_type": "code",
   "source": "",
   "id": "87a0978d940ce9be",
   "outputs": [
    {
     "data": {
      "text/plain": [
       "[                                                   book      corr  avg_rating\n",
       " 259   demon lord of karanda (malloreon (paperback ra...  1.000000    0.875000\n",
       " 717                 sapphire rose (elenium (paperback))  1.000000    1.000000\n",
       " 499   king of the murgos (malloreon (paperback rando...  1.000000    0.777778\n",
       " 11                              a confederacy of dunces  0.998822    2.125000\n",
       " 966                                            the heir  0.974740    2.222222\n",
       " 17                                       a fine balance  0.961779    3.545455\n",
       " 702                                         river's end  0.953260    2.400000\n",
       " 1003   the left hand of darkness (remembering tomorrow)  0.920154    2.750000\n",
       " 907   the deep end of the ocean (oprah's book club (...  0.909620    2.125000\n",
       " 396     guardians of the west (book 1 of the malloreon)  0.905206    1.166667]"
      ]
     },
     "execution_count": 73,
     "metadata": {},
     "output_type": "execute_result"
    }
   ],
   "execution_count": 73
  },
  {
   "metadata": {
    "ExecuteTime": {
     "end_time": "2025-08-14T16:22:58.379995Z",
     "start_time": "2025-08-14T16:22:58.326622Z"
    }
   },
   "cell_type": "code",
   "source": "worst_list",
   "id": "f85dcada1ad665d6",
   "outputs": [
    {
     "data": {
      "text/plain": [
       "[                                                   book  corr  avg_rating\n",
       " 903                              the day after tomorrow   NaN         0.0\n",
       " 905                                       the deadhouse   NaN         0.0\n",
       " 919                                     the empty chair   NaN         0.0\n",
       " 927                               the face of deception   NaN         0.0\n",
       " 1058                               the princess diaries   NaN         0.0\n",
       " 1080                         the saving graces: a novel   NaN         0.0\n",
       " 1087                                 the secret pilgrim   NaN         0.0\n",
       " 1143                                         the winner   NaN         0.0\n",
       " 1191  valhalla rising (dirk pitt adventures (paperba...   NaN         0.0\n",
       " 1220                         while my pretty one sleeps   NaN         0.0]"
      ]
     },
     "execution_count": 74,
     "metadata": {},
     "output_type": "execute_result"
    }
   ],
   "execution_count": 74
  },
  {
   "metadata": {},
   "cell_type": "code",
   "outputs": [],
   "execution_count": null,
   "source": "",
   "id": "56a820e68a69d93"
  }
 ],
 "metadata": {
  "kernelspec": {
   "display_name": "Python 3",
   "language": "python",
   "name": "python3"
  },
  "language_info": {
   "codemirror_mode": {
    "name": "ipython",
    "version": 2
   },
   "file_extension": ".py",
   "mimetype": "text/x-python",
   "name": "python",
   "nbconvert_exporter": "python",
   "pygments_lexer": "ipython2",
   "version": "2.7.6"
  }
 },
 "nbformat": 4,
 "nbformat_minor": 5
}
